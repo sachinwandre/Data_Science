{
 "cells": [
  {
   "cell_type": "markdown",
   "id": "102aa858",
   "metadata": {},
   "source": [
    "Rules for Python variables:\n",
    "\tA variable name must start with a letter or the underscore character\n",
    "\tA variable name cannot start with a number\n",
    "\tA variable name can only contain alpha-numeric characters and underscores (A-z, 0-9, and _ )\n",
    "\tVariable names are case-sensitive (age, Age and AGE are three different variables)"
   ]
  },
  {
   "cell_type": "code",
   "execution_count": 1,
   "id": "44ea2149",
   "metadata": {},
   "outputs": [
    {
     "data": {
      "text/plain": [
       "10"
      ]
     },
     "execution_count": 1,
     "metadata": {},
     "output_type": "execute_result"
    }
   ],
   "source": [
    "a = 10\n",
    "a"
   ]
  },
  {
   "cell_type": "code",
   "execution_count": 2,
   "id": "6cb24827",
   "metadata": {},
   "outputs": [
    {
     "ename": "SyntaxError",
     "evalue": "invalid decimal literal (1863843252.py, line 1)",
     "output_type": "error",
     "traceback": [
      "\u001b[1;36m  Cell \u001b[1;32mIn[2], line 1\u001b[1;36m\u001b[0m\n\u001b[1;33m    99guru = 800\u001b[0m\n\u001b[1;37m     ^\u001b[0m\n\u001b[1;31mSyntaxError\u001b[0m\u001b[1;31m:\u001b[0m invalid decimal literal\n"
     ]
    }
   ],
   "source": [
    "99guru = 800\n",
    "99guru"
   ]
  },
  {
   "cell_type": "code",
   "execution_count": 3,
   "id": "1cacef83",
   "metadata": {},
   "outputs": [
    {
     "data": {
      "text/plain": [
       "100"
      ]
     },
     "execution_count": 3,
     "metadata": {},
     "output_type": "execute_result"
    }
   ],
   "source": [
    "_99 = 100\n",
    "_99"
   ]
  },
  {
   "cell_type": "code",
   "execution_count": 4,
   "id": "c588f312",
   "metadata": {},
   "outputs": [
    {
     "data": {
      "text/plain": [
       "100"
      ]
     },
     "execution_count": 4,
     "metadata": {},
     "output_type": "execute_result"
    }
   ],
   "source": [
    "__99 = 100\n",
    "__99"
   ]
  },
  {
   "cell_type": "code",
   "execution_count": 5,
   "id": "c59b7e7a",
   "metadata": {},
   "outputs": [
    {
     "data": {
      "text/plain": [
       "400"
      ]
     },
     "execution_count": 5,
     "metadata": {},
     "output_type": "execute_result"
    }
   ],
   "source": [
    "_99Sachin = 400\n",
    "_99Sachin"
   ]
  },
  {
   "cell_type": "code",
   "execution_count": null,
   "id": "b090eabb",
   "metadata": {},
   "outputs": [],
   "source": [
    "sachin$ = 'Hello'\n",
    "sachin$"
   ]
  },
  {
   "cell_type": "code",
   "execution_count": null,
   "id": "e60b36fd",
   "metadata": {},
   "outputs": [],
   "source": [
    "number = 10\n",
    "print(number)"
   ]
  },
  {
   "cell_type": "code",
   "execution_count": null,
   "id": "29c7d1fb",
   "metadata": {},
   "outputs": [],
   "source": [
    "name = \"Sachin\"\n",
    "print(name)"
   ]
  },
  {
   "cell_type": "code",
   "execution_count": null,
   "id": "4ca88e0e",
   "metadata": {},
   "outputs": [],
   "source": [
    "name = 100\n",
    "print(name)"
   ]
  },
  {
   "cell_type": "code",
   "execution_count": null,
   "id": "07247cd7",
   "metadata": {},
   "outputs": [],
   "source": [
    "name = 89.88\n",
    "print(name)"
   ]
  },
  {
   "cell_type": "code",
   "execution_count": null,
   "id": "b2d27011",
   "metadata": {},
   "outputs": [],
   "source": [
    "a=10;b=20;c=30\n",
    "print(a,b,c)"
   ]
  },
  {
   "cell_type": "code",
   "execution_count": null,
   "id": "1941f93b",
   "metadata": {},
   "outputs": [],
   "source": [
    "a,b,c = 100, 200, 300\n",
    "print(a,b,c)"
   ]
  },
  {
   "cell_type": "code",
   "execution_count": null,
   "id": "bd23fbf9",
   "metadata": {},
   "outputs": [],
   "source": [
    "a,b,c = \"Sachin\", 100, 34\n",
    "print(a,b,c)"
   ]
  },
  {
   "cell_type": "code",
   "execution_count": null,
   "id": "2714cbad",
   "metadata": {},
   "outputs": [],
   "source": [
    "a = b = c = \"Pune\"\n",
    "print(a,b,c)"
   ]
  },
  {
   "cell_type": "code",
   "execution_count": null,
   "id": "70c69bd2",
   "metadata": {},
   "outputs": [],
   "source": [
    "# Dynamic Typing --> PHP, Python\n",
    "# Static typing --> C CPP Java"
   ]
  },
  {
   "cell_type": "code",
   "execution_count": null,
   "id": "31e770f3",
   "metadata": {},
   "outputs": [],
   "source": []
  }
 ],
 "metadata": {
  "kernelspec": {
   "display_name": "Python 3 (ipykernel)",
   "language": "python",
   "name": "python3"
  },
  "language_info": {
   "codemirror_mode": {
    "name": "ipython",
    "version": 3
   },
   "file_extension": ".py",
   "mimetype": "text/x-python",
   "name": "python",
   "nbconvert_exporter": "python",
   "pygments_lexer": "ipython3",
   "version": "3.11.3"
  }
 },
 "nbformat": 4,
 "nbformat_minor": 5
}
